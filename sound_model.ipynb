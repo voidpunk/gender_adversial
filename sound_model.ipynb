{
 "cells": [
  {
   "cell_type": "code",
   "execution_count": 12,
   "metadata": {},
   "outputs": [],
   "source": [
    "import os\n",
    "import torch\n",
    "import torchaudio\n",
    "import numpy as np\n",
    "import pandas as pd"
   ]
  },
  {
   "cell_type": "code",
   "execution_count": 13,
   "metadata": {},
   "outputs": [],
   "source": [
    "def rechannel(aud, new_ch):\n",
    "    sig, sr = aud\n",
    "    if (sig.shape[0] == new_ch):\n",
    "        return sig, sr\n",
    "    if (new_ch == 1):\n",
    "        resig = sig[:1, :]\n",
    "    else:\n",
    "        resig = torch.cat([sig, sig])\n",
    "    return (resig, sr)"
   ]
  },
  {
   "cell_type": "code",
   "execution_count": 14,
   "metadata": {},
   "outputs": [],
   "source": [
    "def resample(aud, new_sr):\n",
    "    sig, sr = aud\n",
    "    if (sr == new_sr):\n",
    "        return sig, sr\n",
    "    resampled_ch1 = torchaudio.transforms.Resample(sr, new_sr)(sig[:1,:])\n",
    "    resampled_ch2 = torchaudio.transforms.Resample(sr, new_sr)(sig[1:,:])\n",
    "    resampled_sig = torch.cat([resampled_ch1, resampled_ch2])\n",
    "    return (resampled_sig, new_sr)"
   ]
  },
  {
   "cell_type": "code",
   "execution_count": 15,
   "metadata": {},
   "outputs": [],
   "source": [
    "def resize(aud, max_ms):\n",
    "    sig, sr = aud\n",
    "    num_ch, sig_len = sig.shape\n",
    "    max_len = sr // 1000 * max_ms\n",
    "    if sig_len > max_len:\n",
    "        sig = sig[:,:max_len]\n",
    "    elif sig_len < max_len:\n",
    "        pad_begin_len = np.random.randint(0, max_len - sig_len)\n",
    "        pad_end_len = max_len - sig_len - pad_begin_len\n",
    "        pad_begin = torch.zeros((num_ch, pad_begin_len))\n",
    "        pad_end = torch.zeros((num_ch, pad_end_len))\n",
    "        sig = torch.cat((pad_begin, sig, pad_end), 1)\n",
    "    return (sig, sr)"
   ]
  },
  {
   "cell_type": "code",
   "execution_count": 16,
   "metadata": {},
   "outputs": [],
   "source": [
    "def time_shift(aud, shift_limit):\n",
    "    sig, sr = aud\n",
    "    sig_len = sig.shape[1]\n",
    "    shift_amt = int(np.random.random() * shift_limit * sig_len)\n",
    "    return (sig.roll(shift_amt), sr)"
   ]
  },
  {
   "cell_type": "code",
   "execution_count": 17,
   "metadata": {},
   "outputs": [],
   "source": [
    "def mel_spectrogram(aud, n_mels=64, n_fft=1024, hop_len=None):\n",
    "    sig, sr = aud\n",
    "    top_db = 80\n",
    "    # shape [channel, n_mels, time]\n",
    "    spec = torchaudio.transforms.AmplitudeToDB(top_db=top_db)(sig)\n",
    "    spec = torchaudio.transforms.MelSpectrogram(sr, n_fft=n_fft, hop_length=hop_len, n_mels=n_mels)(spec)\n",
    "    return spec"
   ]
  },
  {
   "cell_type": "code",
   "execution_count": 18,
   "metadata": {},
   "outputs": [],
   "source": [
    "def spectro_augment(spec, max_mask_pct=0.1, n_freq_masks=1, n_time_masks=1):\n",
    "    _, n_mels, n_steps = spec.shape\n",
    "    mask_value = spec.mean()\n",
    "    aug_spec = spec\n",
    "    freq_mask_param = max_mask_pct * n_mels\n",
    "    for _ in range(n_freq_masks):\n",
    "        aug_spec = torchaudio.transforms.FrequencyMasking(freq_mask_param)(aug_spec, mask_value)\n",
    "    time_mask_param = max_mask_pct * n_steps\n",
    "    for _ in range(n_time_masks):\n",
    "        aug_spec = torchaudio.transforms.TimeMasking(time_mask_param)(aug_spec, mask_value)\n",
    "    return aug_spec"
   ]
  },
  {
   "cell_type": "code",
   "execution_count": 19,
   "metadata": {},
   "outputs": [],
   "source": [
    "class AudioDataSet(torch.utils.data.Dataset):\n",
    "\n",
    "    def __init__(self, df_path, data_path):\n",
    "        self.df = pd.read_csv(df_path)\n",
    "        self.data_path = data_path\n",
    "        self.duration = 2300\n",
    "        self.sr = 16000\n",
    "        self.channel = 1\n",
    "        self.shift_pct = 0.4\n",
    "\n",
    "    def __len__(self):\n",
    "        return len(self.df)    \n",
    "\n",
    "    def __getitem__(self, idx):\n",
    "        audio_file = self.data_path + self.df.loc[idx, 'path']\n",
    "        # print(audio_file)\n",
    "        class_id = self.df.loc[idx, 'gender']\n",
    "        # print(class_id)\n",
    "        class_id = 0 if class_id == 'female' else 1\n",
    "        raw_aud = torchaudio.load(audio_file)\n",
    "        resr_aud = resample(raw_aud, self.sr)\n",
    "        rech_aud = rechannel(resr_aud, self.channel)\n",
    "        resz_aud = resize(rech_aud, self.duration)\n",
    "        shft_aud = time_shift(resz_aud, self.shift_pct)\n",
    "        raw_spec = mel_spectrogram(shft_aud, n_mels=64, n_fft=1024, hop_len=None)\n",
    "        aug_spec = spectro_augment(raw_spec, max_mask_pct=0.1, n_freq_masks=2, n_time_masks=2)\n",
    "        return aug_spec, class_id #, audio_file"
   ]
  },
  {
   "cell_type": "code",
   "execution_count": 20,
   "metadata": {},
   "outputs": [],
   "source": [
    "# df_path = './fluent_speech/index.csv'\n",
    "# data_path = './fluent_speech/'\n",
    "# myds = AudioDataSet(df_path, data_path)\n",
    "# tensor, label, path = myds.__getitem__(5000)\n",
    "# # !mpv $path\n",
    "# tensor, label, path\n"
   ]
  },
  {
   "cell_type": "code",
   "execution_count": 21,
   "metadata": {},
   "outputs": [],
   "source": [
    "class AudioClassifier (torch.nn.Module):\n",
    "\n",
    "    def __init__(self):\n",
    "        super().__init__()\n",
    "        conv_layers = []\n",
    "        # 1st conv layer\n",
    "        self.conv1 = torch.nn.Conv2d(1, 8, kernel_size=(5, 5), stride=(2, 2), padding=(2, 2))\n",
    "        self.relu1 = torch.nn.ReLU()\n",
    "        self.bn1 = torch.nn.BatchNorm2d(8)\n",
    "        torch.nn.init.kaiming_normal_(self.conv1.weight, a=0.1)\n",
    "        self.conv1.bias.data.zero_()\n",
    "        conv_layers += [self.conv1, self.relu1, self.bn1]\n",
    "        # 2nd conv layer\n",
    "        self.conv2 = torch.nn.Conv2d(8, 16, kernel_size=(3, 3), stride=(2, 2), padding=(1, 1))\n",
    "        self.relu2 = torch.nn.ReLU()\n",
    "        self.bn2 = torch.nn.BatchNorm2d(16)\n",
    "        torch.nn.init.kaiming_normal_(self.conv2.weight, a=0.1)\n",
    "        self.conv2.bias.data.zero_()\n",
    "        conv_layers += [self.conv2, self.relu2, self.bn2]\n",
    "        # 3rd conv layer\n",
    "        self.conv3 = torch.nn.Conv2d(16, 32, kernel_size=(3, 3), stride=(2, 2), padding=(1, 1))\n",
    "        self.relu3 = torch.nn.ReLU()\n",
    "        self.bn3 = torch.nn.BatchNorm2d(32)\n",
    "        torch.nn.init.kaiming_normal_(self.conv3.weight, a=0.1)\n",
    "        self.conv3.bias.data.zero_()\n",
    "        conv_layers += [self.conv3, self.relu3, self.bn3]\n",
    "        # 4th conv layer\n",
    "        self.conv4 = torch.nn.Conv2d(32, 64, kernel_size=(3, 3), stride=(2, 2), padding=(1, 1))\n",
    "        self.relu4 = torch.nn.ReLU()\n",
    "        self.bn4 = torch.nn.BatchNorm2d(64)\n",
    "        torch.nn.init.kaiming_normal_(self.conv4.weight, a=0.1)\n",
    "        self.conv4.bias.data.zero_()\n",
    "        conv_layers += [self.conv4, self.relu4, self.bn4]\n",
    "        # Linear Classifier\n",
    "        self.ap = torch.nn.AdaptiveAvgPool2d(output_size=1)\n",
    "        self.lin = torch.nn.Linear(in_features=64, out_features=2)\n",
    "        # Wrap the Convolutional Blocks\n",
    "        self.conv = torch.nn.Sequential(*conv_layers)\n",
    "\n",
    "    def forward(self, x):\n",
    "        # Run the convolutional blocks\n",
    "        x = self.conv(x)\n",
    "        # Adaptive pool and flatten for input to linear layer\n",
    "        x = self.ap(x)\n",
    "        x = x.view(x.shape[0], -1)\n",
    "        # Linear layer\n",
    "        x = self.lin(x)\n",
    "        # Final output\n",
    "        return x"
   ]
  },
  {
   "cell_type": "code",
   "execution_count": 22,
   "metadata": {},
   "outputs": [],
   "source": [
    "def training(model, train_dl, num_epochs, max_lr):\n",
    "    criterion = torch.nn.CrossEntropyLoss()\n",
    "    optimizer = torch.optim.Adam(model.parameters(),lr=max_lr)\n",
    "    scheduler = torch.optim.lr_scheduler.OneCycleLR(\n",
    "        optimizer,\n",
    "        max_lr=max_lr,\n",
    "        steps_per_epoch=int(len(train_dl)),\n",
    "        epochs=num_epochs,\n",
    "        anneal_strategy='linear'\n",
    "        )\n",
    "    model.train()\n",
    "    for epoch in range(num_epochs):\n",
    "        running_loss = 0.0\n",
    "        correct_prediction = 0\n",
    "        total_prediction = 0\n",
    "        for i, data in enumerate(train_dl):\n",
    "            inputs, labels = data[0].to(device), data[1].to(device)\n",
    "            inputs_m, inputs_s = inputs.mean(), inputs.std()\n",
    "            inputs = (inputs - inputs_m) / inputs_s\n",
    "            optimizer.zero_grad()\n",
    "            outputs = model(inputs)\n",
    "            loss = criterion(outputs, labels)\n",
    "            loss.backward()\n",
    "            optimizer.step()\n",
    "            scheduler.step()\n",
    "            running_loss += loss.item()\n",
    "            _, prediction = torch.max(outputs,1)\n",
    "            correct_prediction += (prediction == labels).sum().item()\n",
    "            total_prediction += prediction.shape[0]\n",
    "        num_batches = len(train_dl)\n",
    "        avg_loss = running_loss / num_batches\n",
    "        acc = correct_prediction / total_prediction\n",
    "        print(f'Epoch: {epoch}, Loss: {avg_loss:.2f}, Accuracy: {acc:.2f}')\n",
    "    print('Finished Training')"
   ]
  },
  {
   "cell_type": "code",
   "execution_count": 23,
   "metadata": {},
   "outputs": [],
   "source": [
    "def validation (model, val_dl):\n",
    "    correct_prediction = 0\n",
    "    total_prediction = 0\n",
    "    model.eval()\n",
    "    with torch.no_grad():\n",
    "        for data in val_dl:\n",
    "            inputs, labels = data[0].to(device), data[1].to(device)\n",
    "            inputs_m, inputs_s = inputs.mean(), inputs.std()\n",
    "            inputs = (inputs - inputs_m) / inputs_s\n",
    "            outputs = model(inputs)\n",
    "            _, prediction = torch.max(outputs, 1)\n",
    "            correct_prediction += (prediction == labels).sum().item()\n",
    "            total_prediction += prediction.shape[0]\n",
    "    acc = correct_prediction / total_prediction\n",
    "    print(f'Accuracy: {acc:.2f}, Total items: {total_prediction}')"
   ]
  },
  {
   "cell_type": "code",
   "execution_count": 24,
   "metadata": {},
   "outputs": [],
   "source": [
    "def inference_preprocessor(path, sr, ch, duration, shift_pct):\n",
    "    raw_aud = torchaudio.load(path)\n",
    "    resr_aud = resample(raw_aud, sr)\n",
    "    rech_aud = rechannel(resr_aud, ch)\n",
    "    resz_aud = resize(rech_aud, duration)\n",
    "    shft_aud = time_shift(resz_aud, shift_pct)\n",
    "    raw_spec = mel_spectrogram(shft_aud, n_mels=64, n_fft=1024, hop_len=None)\n",
    "    aug_spec = spectro_augment(raw_spec, max_mask_pct=0.1, n_freq_masks=2, n_time_masks=2)\n",
    "    return aug_spec\n",
    "\n",
    "def inference (model, path, sr, ch, duration, shift_pct):\n",
    "    input = inference_preprocessor(path, sr, ch, duration, shift_pct)\n",
    "    model.eval()\n",
    "    with torch.no_grad():\n",
    "        output = model(input.unsqueeze(0).to(device))\n",
    "        print(f'Prediction: {output}')\n",
    "        _, prediction = torch.max(output, 1)\n",
    "        print(f'Prediction: {prediction}')"
   ]
  },
  {
   "cell_type": "code",
   "execution_count": 25,
   "metadata": {},
   "outputs": [
    {
     "name": "stdout",
     "output_type": "stream",
     "text": [
      "Epoch: 0, Loss: 0.55, Accuracy: 0.72\n",
      "Epoch: 1, Loss: 0.29, Accuracy: 0.89\n",
      "Epoch: 2, Loss: 0.22, Accuracy: 0.91\n",
      "Epoch: 3, Loss: 0.20, Accuracy: 0.92\n",
      "Epoch: 4, Loss: 0.19, Accuracy: 0.93\n",
      "Finished Training\n",
      "Accuracy: 0.93, Total items: 4626\n"
     ]
    }
   ],
   "source": [
    "df_path = './fluent_speech/index.csv'\n",
    "data_path = './fluent_speech/'\n",
    "split_ratio = 0.8\n",
    "num_workers = 8\n",
    "batch_size = 64\n",
    "num_epochs = 5\n",
    "max_lr = 1e-3\n",
    "\n",
    "myds = AudioDataSet(df_path, data_path)\n",
    "num_items = len(myds)\n",
    "num_train = round(num_items * split_ratio)\n",
    "num_val = num_items - num_train\n",
    "train_ds, val_ds = torch.utils.data.random_split(myds, [num_train, num_val])\n",
    "\n",
    "train_dl = torch.utils.data.DataLoader(\n",
    "    train_ds, batch_size=batch_size, shuffle=True, num_workers=num_workers\n",
    "    )\n",
    "val_dl = torch.utils.data.DataLoader(\n",
    "    val_ds, batch_size=batch_size, shuffle=False, num_workers=num_workers\n",
    "    )\n",
    "\n",
    "device = torch.device(\"cuda:0\" if torch.cuda.is_available() else \"cpu\")\n",
    "myModel = AudioClassifier()\n",
    "myModel = myModel.to(device)\n",
    "next(myModel.parameters()).device\n",
    "\n",
    "training(myModel, train_dl, num_epochs, max_lr)\n",
    "validation(myModel, val_dl)"
   ]
  },
  {
   "cell_type": "code",
   "execution_count": 26,
   "metadata": {},
   "outputs": [
    {
     "name": "stdout",
     "output_type": "stream",
     "text": [
      "Prediction: tensor([[33484520., 13053734.]], device='cuda:0')\n",
      "Prediction: tensor([0], device='cuda:0')\n"
     ]
    }
   ],
   "source": [
    "test_path_female = './fluent_speech/wavs/speakers/2BqVo8kVB2Skwgyb/0a3129c0-4474-11e9-a9a5-5dbec3b8816a.wav'\n",
    "inference(\n",
    "    model=myModel,\n",
    "    path=test_path_female,\n",
    "    sr=16000,\n",
    "    ch=1,\n",
    "    duration=2300,\n",
    "    shift_pct=0.4\n",
    "    )\n",
    "# !mpv $test_path_female"
   ]
  },
  {
   "cell_type": "code",
   "execution_count": 27,
   "metadata": {},
   "outputs": [
    {
     "name": "stdout",
     "output_type": "stream",
     "text": [
      "Prediction: tensor([[-20428352.,  56580116.]], device='cuda:0')\n",
      "Prediction: tensor([1], device='cuda:0')\n"
     ]
    }
   ],
   "source": [
    "test_path_male = './fluent_speech/wavs/speakers/g2dnA9Wpvzi2WAmZ/f3870450-4546-11e9-aa52-bf2189a03a60.wav'\n",
    "inference(\n",
    "    model=myModel,\n",
    "    path=test_path_male,\n",
    "    sr=16000,\n",
    "    ch=1,\n",
    "    duration=2300,\n",
    "    shift_pct=0.4\n",
    "    )\n",
    "# !mpv $test_path_male"
   ]
  }
 ],
 "metadata": {
  "kernelspec": {
   "display_name": "Python 3 (ipykernel)",
   "language": "python",
   "name": "python3"
  },
  "language_info": {
   "codemirror_mode": {
    "name": "ipython",
    "version": 3
   },
   "file_extension": ".py",
   "mimetype": "text/x-python",
   "name": "python",
   "nbconvert_exporter": "python",
   "pygments_lexer": "ipython3",
   "version": "3.10.5"
  },
  "vscode": {
   "interpreter": {
    "hash": "f3d2d6c713f7e54d01c2cd9cd4260860e3f77458a8e64010c8a907d461f76033"
   }
  }
 },
 "nbformat": 4,
 "nbformat_minor": 2
}
