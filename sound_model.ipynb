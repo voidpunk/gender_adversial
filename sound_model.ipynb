{
 "cells": [
  {
   "cell_type": "code",
   "execution_count": 2,
   "metadata": {},
   "outputs": [],
   "source": [
    "import os\n",
    "import torch\n",
    "import torchaudio\n",
    "import numpy as np\n",
    "import pandas as pd\n",
    "import matplotlib.pyplot as plt"
   ]
  },
  {
   "cell_type": "code",
   "execution_count": 9,
   "metadata": {},
   "outputs": [
    {
     "data": {
      "text/html": [
       "<div>\n",
       "<style scoped>\n",
       "    .dataframe tbody tr th:only-of-type {\n",
       "        vertical-align: middle;\n",
       "    }\n",
       "\n",
       "    .dataframe tbody tr th {\n",
       "        vertical-align: top;\n",
       "    }\n",
       "\n",
       "    .dataframe thead th {\n",
       "        text-align: right;\n",
       "    }\n",
       "</style>\n",
       "<table border=\"1\" class=\"dataframe\">\n",
       "  <thead>\n",
       "    <tr style=\"text-align: right;\">\n",
       "      <th></th>\n",
       "      <th>rates</th>\n",
       "      <th>channels</th>\n",
       "      <th>samples</th>\n",
       "    </tr>\n",
       "  </thead>\n",
       "  <tbody>\n",
       "    <tr>\n",
       "      <th>0</th>\n",
       "      <td>16000</td>\n",
       "      <td>1</td>\n",
       "      <td>28235</td>\n",
       "    </tr>\n",
       "    <tr>\n",
       "      <th>1</th>\n",
       "      <td>16000</td>\n",
       "      <td>1</td>\n",
       "      <td>28235</td>\n",
       "    </tr>\n",
       "    <tr>\n",
       "      <th>2</th>\n",
       "      <td>16000</td>\n",
       "      <td>1</td>\n",
       "      <td>28235</td>\n",
       "    </tr>\n",
       "    <tr>\n",
       "      <th>3</th>\n",
       "      <td>16000</td>\n",
       "      <td>1</td>\n",
       "      <td>31208</td>\n",
       "    </tr>\n",
       "    <tr>\n",
       "      <th>4</th>\n",
       "      <td>16000</td>\n",
       "      <td>1</td>\n",
       "      <td>20805</td>\n",
       "    </tr>\n",
       "    <tr>\n",
       "      <th>...</th>\n",
       "      <td>...</td>\n",
       "      <td>...</td>\n",
       "      <td>...</td>\n",
       "    </tr>\n",
       "    <tr>\n",
       "      <th>30038</th>\n",
       "      <td>16000</td>\n",
       "      <td>1</td>\n",
       "      <td>31403</td>\n",
       "    </tr>\n",
       "    <tr>\n",
       "      <th>30039</th>\n",
       "      <td>16000</td>\n",
       "      <td>1</td>\n",
       "      <td>39595</td>\n",
       "    </tr>\n",
       "    <tr>\n",
       "      <th>30040</th>\n",
       "      <td>16000</td>\n",
       "      <td>1</td>\n",
       "      <td>39595</td>\n",
       "    </tr>\n",
       "    <tr>\n",
       "      <th>30041</th>\n",
       "      <td>16000</td>\n",
       "      <td>1</td>\n",
       "      <td>38229</td>\n",
       "    </tr>\n",
       "    <tr>\n",
       "      <th>30042</th>\n",
       "      <td>16000</td>\n",
       "      <td>1</td>\n",
       "      <td>32768</td>\n",
       "    </tr>\n",
       "  </tbody>\n",
       "</table>\n",
       "<p>30043 rows × 3 columns</p>\n",
       "</div>"
      ],
      "text/plain": [
       "       rates  channels  samples\n",
       "0      16000         1    28235\n",
       "1      16000         1    28235\n",
       "2      16000         1    28235\n",
       "3      16000         1    31208\n",
       "4      16000         1    20805\n",
       "...      ...       ...      ...\n",
       "30038  16000         1    31403\n",
       "30039  16000         1    39595\n",
       "30040  16000         1    39595\n",
       "30041  16000         1    38229\n",
       "30042  16000         1    32768\n",
       "\n",
       "[30043 rows x 3 columns]"
      ]
     },
     "execution_count": 9,
     "metadata": {},
     "output_type": "execute_result"
    }
   ],
   "source": [
    "base_dir = './fluent_speech/wavs/speakers/'\n",
    "wav_paths = os.listdir(base_dir)\n",
    "channels, rates, samples = [], [], []\n",
    "for wav_path in wav_paths:\n",
    "    for wav in os.listdir(os.path.join(base_dir, wav_path)):\n",
    "        sample, rate = torchaudio.load(os.path.join(base_dir, wav_path, wav))\n",
    "        rates.append(int(rate))\n",
    "        channels.append(int(sample.shape[0]))\n",
    "        samples.append(int(sample.shape[1]))\n",
    "df = pd.DataFrame({\n",
    "    'rates': rates,\n",
    "    'channels': channels,\n",
    "    'samples': samples\n",
    "    })\n",
    "df"
   ]
  },
  {
   "cell_type": "code",
   "execution_count": 10,
   "metadata": {},
   "outputs": [
    {
     "data": {
      "text/plain": [
       "(16000    30043\n",
       " Name: rates, dtype: int64,\n",
       " 1    30043\n",
       " Name: channels, dtype: int64)"
      ]
     },
     "execution_count": 10,
     "metadata": {},
     "output_type": "execute_result"
    }
   ],
   "source": [
    "df.rates.value_counts(), df.channels.value_counts()"
   ]
  },
  {
   "cell_type": "code",
   "execution_count": 11,
   "metadata": {},
   "outputs": [
    {
     "data": {
      "text/plain": [
       "(2.305681005142629, nan)"
      ]
     },
     "execution_count": 11,
     "metadata": {},
     "output_type": "execute_result"
    }
   ],
   "source": [
    "df.samples.mean()/df.rates.mean(), df.samples[df.rates == 48000].mean() / df.rates[df.rates == 48000].mean()"
   ]
  },
  {
   "cell_type": "code",
   "execution_count": null,
   "metadata": {},
   "outputs": [],
   "source": [
    "def rechannel(aud, new_ch):\n",
    "    sig, sr = aud\n",
    "    if (sig.shape[0] == new_ch):\n",
    "        return sig, sr\n",
    "    if (new_ch == 1):\n",
    "        resig = sig[:1, :]\n",
    "    else:\n",
    "        resig = torch.cat([sig, sig])\n",
    "    return (resig, sr)"
   ]
  },
  {
   "cell_type": "code",
   "execution_count": 5,
   "metadata": {},
   "outputs": [],
   "source": [
    "def resample(aud, new_sr):\n",
    "    sig, sr = aud\n",
    "    if (sr == new_sr):\n",
    "        return sig, sr\n",
    "    resampled_ch1 = torchaudio.transforms.Resample(rate, new_sr)(sig[:1,:])\n",
    "    resampled_ch2 = torchaudio.transforms.Resample(rate, new_sr)(sig[1:,:])\n",
    "    resampled_sig = torch.cat([resampled_ch1, resampled_ch2])\n",
    "    return (resampled_sig, new_sr)"
   ]
  },
  {
   "cell_type": "code",
   "execution_count": 6,
   "metadata": {},
   "outputs": [],
   "source": [
    "def resize(aud, max_ms):\n",
    "    sig, sr = aud\n",
    "    num_ch, sig_len = sig.shape\n",
    "    max_len = sr // 1000 * max_ms\n",
    "    if sig_len > max_len:\n",
    "        sig = sig[:,:max_len]\n",
    "    elif sig_len < max_len:\n",
    "        pad_begin_len = np.random.randint(0, max_len - sig_len)\n",
    "        pad_end_len = max_len - sig_len - pad_begin_len\n",
    "    pad_begin = torch.zeros((num_ch, pad_begin_len))\n",
    "    pad_end = torch.zeros((num_ch, pad_end_len))\n",
    "    sig = torch.cat((pad_begin, sig, pad_end), 1)\n",
    "    return (sig, sr)"
   ]
  },
  {
   "cell_type": "code",
   "execution_count": 7,
   "metadata": {},
   "outputs": [],
   "source": [
    "def time_shift(aud, shift_limit):\n",
    "    sig, sr = aud\n",
    "    sig_len = sig.shape[1]\n",
    "    shift_amt = int(np.random.random() * shift_limit * sig_len)\n",
    "    return (sig.roll(shift_amt), sr)"
   ]
  },
  {
   "cell_type": "code",
   "execution_count": 8,
   "metadata": {},
   "outputs": [],
   "source": [
    "def mel_spectrogram(aud, n_mels=64, n_fft=1024, hop_len=None):\n",
    "    sig, sr = aud\n",
    "    top_db = 80\n",
    "    # shape [channel, n_mels, time]\n",
    "    spec = torchaudio.transforms.MelSpectrogram(sr, n_fft=n_fft, hop_length=hop_len, n_mels=n_mels)(sig)\n",
    "    spec = torchaudio.transforms.AmplitudeToDB(top_db=top_db)(spec)\n",
    "    return spec"
   ]
  },
  {
   "cell_type": "code",
   "execution_count": null,
   "metadata": {},
   "outputs": [],
   "source": [
    "def spectro_augment(spec, max_mask_pct=0.1, n_freq_masks=1, n_time_masks=1):\n",
    "    _, n_mels, n_steps = spec.shape\n",
    "    mask_value = spec.mean()\n",
    "    aug_spec = spec\n",
    "    freq_mask_param = max_mask_pct * n_mels\n",
    "    for _ in range(n_freq_masks):\n",
    "        aug_spec = torch.transforms.FrequencyMasking(freq_mask_param)(aug_spec, mask_value)\n",
    "    time_mask_param = max_mask_pct * n_steps\n",
    "    for _ in range(n_time_masks):\n",
    "        aug_spec = torch.transforms.TimeMasking(time_mask_param)(aug_spec, mask_value)\n",
    "    return aug_spec"
   ]
  },
  {
   "cell_type": "code",
   "execution_count": null,
   "metadata": {},
   "outputs": [],
   "source": [
    "class AudioDataSet(torch.utils.data.Dataset):\n",
    "\n",
    "    def __init__(self, df_path, data_path):\n",
    "        self.df = pd.read_csv(df_path)\n",
    "        self.data_path = data_path\n",
    "        self.duration = 2300\n",
    "        self.sr = 16000\n",
    "        self.channel = 1\n",
    "        self.shift_pct = 0.4\n",
    "\n",
    "    def __len__(self):\n",
    "        return len(self.df)    \n",
    "\n",
    "    def __getitem__(self, idx):\n",
    "        audio_file = self.data_path + self.df.loc[idx, 'relative_path']\n",
    "        class_id = self.df.loc[idx, 'classID']\n",
    "        raw_aud = torchaudio.load(audio_file)\n",
    "        resr_aud = resample(raw_aud, self.sr)\n",
    "        rech_aud = rechannel(resr_aud, self.channel)\n",
    "        resz_aud = resize(rech_aud, self.duration)\n",
    "        shft_aud = time_shift(resz_aud, self.shift_pct)\n",
    "        raw_spec = mel_spectrogram(shft_aud, n_mels=64, n_fft=1024, hop_len=None)\n",
    "        aug_spec = spectro_augment(raw_spec, max_mask_pct=0.1, n_freq_masks=2, n_time_masks=2)\n",
    "        return aug_spec, class_id"
   ]
  }
 ],
 "metadata": {
  "kernelspec": {
   "display_name": "Python 3.10.4 ('pytorch')",
   "language": "python",
   "name": "python3"
  },
  "language_info": {
   "codemirror_mode": {
    "name": "ipython",
    "version": 3
   },
   "file_extension": ".py",
   "mimetype": "text/x-python",
   "name": "python",
   "nbconvert_exporter": "python",
   "pygments_lexer": "ipython3",
   "version": "3.10.4"
  },
  "orig_nbformat": 4,
  "vscode": {
   "interpreter": {
    "hash": "f3d2d6c713f7e54d01c2cd9cd4260860e3f77458a8e64010c8a907d461f76033"
   }
  }
 },
 "nbformat": 4,
 "nbformat_minor": 2
}
