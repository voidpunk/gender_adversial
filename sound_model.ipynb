{
 "cells": [
  {
   "cell_type": "code",
   "execution_count": 1,
   "metadata": {},
   "outputs": [],
   "source": [
    "import os\n",
    "import torch\n",
    "import torchaudio\n",
    "import numpy as np\n",
    "import pandas as pd\n",
    "import matplotlib.pyplot as plt"
   ]
  },
  {
   "cell_type": "code",
   "execution_count": 2,
   "metadata": {},
   "outputs": [
    {
     "data": {
      "text/html": [
       "<div>\n",
       "<style scoped>\n",
       "    .dataframe tbody tr th:only-of-type {\n",
       "        vertical-align: middle;\n",
       "    }\n",
       "\n",
       "    .dataframe tbody tr th {\n",
       "        vertical-align: top;\n",
       "    }\n",
       "\n",
       "    .dataframe thead th {\n",
       "        text-align: right;\n",
       "    }\n",
       "</style>\n",
       "<table border=\"1\" class=\"dataframe\">\n",
       "  <thead>\n",
       "    <tr style=\"text-align: right;\">\n",
       "      <th></th>\n",
       "      <th>rates</th>\n",
       "      <th>channels</th>\n",
       "      <th>samples</th>\n",
       "    </tr>\n",
       "  </thead>\n",
       "  <tbody>\n",
       "    <tr>\n",
       "      <th>0</th>\n",
       "      <td>48000</td>\n",
       "      <td>2</td>\n",
       "      <td>87891</td>\n",
       "    </tr>\n",
       "    <tr>\n",
       "      <th>1</th>\n",
       "      <td>48000</td>\n",
       "      <td>2</td>\n",
       "      <td>160811</td>\n",
       "    </tr>\n",
       "    <tr>\n",
       "      <th>2</th>\n",
       "      <td>48000</td>\n",
       "      <td>2</td>\n",
       "      <td>76330</td>\n",
       "    </tr>\n",
       "    <tr>\n",
       "      <th>3</th>\n",
       "      <td>48000</td>\n",
       "      <td>2</td>\n",
       "      <td>98474</td>\n",
       "    </tr>\n",
       "    <tr>\n",
       "      <th>4</th>\n",
       "      <td>48000</td>\n",
       "      <td>2</td>\n",
       "      <td>78471</td>\n",
       "    </tr>\n",
       "    <tr>\n",
       "      <th>...</th>\n",
       "      <td>...</td>\n",
       "      <td>...</td>\n",
       "      <td>...</td>\n",
       "    </tr>\n",
       "    <tr>\n",
       "      <th>2444</th>\n",
       "      <td>48000</td>\n",
       "      <td>2</td>\n",
       "      <td>57039</td>\n",
       "    </tr>\n",
       "    <tr>\n",
       "      <th>2445</th>\n",
       "      <td>48000</td>\n",
       "      <td>2</td>\n",
       "      <td>53383</td>\n",
       "    </tr>\n",
       "    <tr>\n",
       "      <th>2446</th>\n",
       "      <td>48000</td>\n",
       "      <td>2</td>\n",
       "      <td>97172</td>\n",
       "    </tr>\n",
       "    <tr>\n",
       "      <th>2447</th>\n",
       "      <td>48000</td>\n",
       "      <td>2</td>\n",
       "      <td>78103</td>\n",
       "    </tr>\n",
       "    <tr>\n",
       "      <th>2448</th>\n",
       "      <td>48000</td>\n",
       "      <td>2</td>\n",
       "      <td>61996</td>\n",
       "    </tr>\n",
       "  </tbody>\n",
       "</table>\n",
       "<p>2449 rows × 3 columns</p>\n",
       "</div>"
      ],
      "text/plain": [
       "      rates  channels  samples\n",
       "0     48000         2    87891\n",
       "1     48000         2   160811\n",
       "2     48000         2    76330\n",
       "3     48000         2    98474\n",
       "4     48000         2    78471\n",
       "...     ...       ...      ...\n",
       "2444  48000         2    57039\n",
       "2445  48000         2    53383\n",
       "2446  48000         2    97172\n",
       "2447  48000         2    78103\n",
       "2448  48000         2    61996\n",
       "\n",
       "[2449 rows x 3 columns]"
      ]
     },
     "execution_count": 2,
     "metadata": {},
     "output_type": "execute_result"
    }
   ],
   "source": [
    "wav_paths = ['./bvc/one_sentence/one_sentence', './bvc/multiple_sentences/multiple_sentences']\n",
    "channels, rates, samples = [], [], []\n",
    "for wav_path in wav_paths:\n",
    "    for wav in os.listdir(wav_path):\n",
    "        sample, rate = torchaudio.load(os.path.join(wav_path, wav))\n",
    "        rates.append(int(rate))\n",
    "        channels.append(int(sample.shape[0]))\n",
    "        samples.append(int(sample.shape[1]))\n",
    "df = pd.DataFrame({\n",
    "    'rates': rates,\n",
    "    'channels': channels,\n",
    "    'samples': samples\n",
    "    })\n",
    "df"
   ]
  },
  {
   "cell_type": "code",
   "execution_count": 17,
   "metadata": {},
   "outputs": [
    {
     "data": {
      "text/plain": [
       "(48000    2396\n",
       " 44100      53\n",
       " Name: rates, dtype: int64,\n",
       " 2    2449\n",
       " Name: channels, dtype: int64)"
      ]
     },
     "execution_count": 17,
     "metadata": {},
     "output_type": "execute_result"
    }
   ],
   "source": [
    "df.rates.value_counts(), df.channels.value_counts()"
   ]
  },
  {
   "cell_type": "code",
   "execution_count": 13,
   "metadata": {},
   "outputs": [
    {
     "data": {
      "text/plain": [
       "(1.8239356838322456, 1.7979328655397886)"
      ]
     },
     "execution_count": 13,
     "metadata": {},
     "output_type": "execute_result"
    }
   ],
   "source": [
    "df.samples.mean()/df.rates.mean(), df.samples[df.rates == 48000].mean() / df.rates[df.rates == 48000].mean()"
   ]
  },
  {
   "cell_type": "code",
   "execution_count": 5,
   "metadata": {},
   "outputs": [],
   "source": [
    "def resample(sig, sr, new_sr):\n",
    "    if (sr == new_sr):\n",
    "        return sig, sr\n",
    "    resampled_ch1 = torchaudio.transforms.Resample(rate, new_sr)(sig[:1,:])\n",
    "    resampled_ch2 = torchaudio.transforms.Resample(rate, new_sr)(sig[1:,:])\n",
    "    resampled_sig = torch.cat([resampled_ch1, resampled_ch2])\n",
    "    return resampled_sig, new_sr"
   ]
  },
  {
   "cell_type": "code",
   "execution_count": 6,
   "metadata": {},
   "outputs": [],
   "source": [
    "def resize(sig, sr, max_ms):\n",
    "    num_ch, sig_len = sig.shape\n",
    "    max_len = sr // 1000 * max_ms\n",
    "    if sig_len > max_len:\n",
    "        sig = sig[:,:max_len]\n",
    "    elif sig_len < max_len:\n",
    "        pad_begin_len = np.random.randint(0, max_len - sig_len)\n",
    "        pad_end_len = max_len - sig_len - pad_begin_len\n",
    "    pad_begin = torch.zeros((num_ch, pad_begin_len))\n",
    "    pad_end = torch.zeros((num_ch, pad_end_len))\n",
    "    sig = torch.cat((pad_begin, sig, pad_end), 1)\n",
    "    return sig, sr"
   ]
  },
  {
   "cell_type": "code",
   "execution_count": 7,
   "metadata": {},
   "outputs": [],
   "source": [
    "def time_shift(sig, sr, shift_limit):\n",
    "    sig_len = sig.shape[1]\n",
    "    shift_amt = int(np.random.random() * shift_limit * sig_len)\n",
    "    return sig.roll(shift_amt), sr"
   ]
  },
  {
   "cell_type": "code",
   "execution_count": 8,
   "metadata": {},
   "outputs": [],
   "source": [
    "def mel_spectrogram(sig, sr, n_mels=64, n_fft=1024, hop_len=None):\n",
    "    top_db = 80\n",
    "    # shape [channel, n_mels, time]\n",
    "    spec = torchaudio.transforms.MelSpectrogram(sr, n_fft=n_fft, hop_length=hop_len, n_mels=n_mels)(sig)\n",
    "    spec = torchaudio.transforms.AmplitudeToDB(top_db=top_db)(spec)\n",
    "    return (spec)"
   ]
  }
 ],
 "metadata": {
  "kernelspec": {
   "display_name": "Python 3.10.4 ('pytorch')",
   "language": "python",
   "name": "python3"
  },
  "language_info": {
   "codemirror_mode": {
    "name": "ipython",
    "version": 3
   },
   "file_extension": ".py",
   "mimetype": "text/x-python",
   "name": "python",
   "nbconvert_exporter": "python",
   "pygments_lexer": "ipython3",
   "version": "3.10.4"
  },
  "orig_nbformat": 4,
  "vscode": {
   "interpreter": {
    "hash": "f3d2d6c713f7e54d01c2cd9cd4260860e3f77458a8e64010c8a907d461f76033"
   }
  }
 },
 "nbformat": 4,
 "nbformat_minor": 2
}
